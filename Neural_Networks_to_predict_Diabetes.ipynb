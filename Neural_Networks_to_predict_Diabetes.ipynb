{
 "cells": [
  {
   "cell_type": "markdown",
   "metadata": {},
   "source": [
    "## Neural Networks to predict Diabetes"
   ]
  },
  {
   "cell_type": "markdown",
   "metadata": {},
   "source": [
    "Hi, I would like to share this kernel with everyone for educational purpose as I am, myself, Machine Learning Enthusiast.\n",
    "Any comments will be highly appreciated."
   ]
  },
  {
   "cell_type": "markdown",
   "metadata": {},
   "source": [
    "In this kernel we will use a neural network to predict diabetes using the Pima Diabetes Dataset.  We will start by training a Random Forest to get a performance baseline.  Then we will use the Keras package to quickly build and train a neural network and compare the performance.  We will see how different network structures affect the performance, training time, and level of overfitting (or underfitting).\n",
    "\n",
    "## UCI Pima Diabetes Dataset\n",
    "\n",
    "* UCI ML Repositiory (http://archive.ics.uci.edu/ml/datasets/Pima+Indians+Diabetes)\n",
    "\n",
    "\n",
    "### Attributes: (all numeric-valued)\n",
    "   1. Number of times pregnant\n",
    "   2. Plasma glucose concentration a 2 hours in an oral glucose tolerance test\n",
    "   3. Diastolic blood pressure (mm Hg)\n",
    "   4. Triceps skin fold thickness (mm)\n",
    "   5. 2-Hour serum insulin (mu U/ml)\n",
    "   6. Body mass index (weight in kg/(height in m)^2)\n",
    "   7. Diabetes pedigree function\n",
    "   8. Age (years)\n",
    "   9. Class variable (0 or 1)"
   ]
  },
  {
   "cell_type": "markdown",
   "metadata": {},
   "source": [
    "The UCI Pima Diabetes Dataset which has 8 numerical predictors and a binary outcome."
   ]
  },
  {
   "cell_type": "code",
   "execution_count": 1,
   "metadata": {
    "collapsed": true
   },
   "outputs": [],
   "source": [
    "#Preliminaries\n",
    "\n",
    "from __future__ import absolute_import, division, print_function  # Python 2/3 compatibility\n",
    "\n",
    "import warnings\n",
    "warnings.filterwarnings(\"ignore\")\n",
    "\n",
    "\n",
    "import numpy as np\n",
    "import pandas as pd\n",
    "import matplotlib.pyplot as plt\n",
    "\n",
    "from sklearn.model_selection import train_test_split\n",
    "from sklearn.preprocessing import StandardScaler\n",
    "from sklearn.metrics import confusion_matrix, precision_recall_curve, roc_auc_score, roc_curve, accuracy_score\n",
    "from sklearn.ensemble import RandomForestClassifier\n",
    "\n",
    "import seaborn as sns\n",
    "\n",
    "%matplotlib inline"
   ]
  },
  {
   "cell_type": "code",
   "execution_count": 2,
   "metadata": {},
   "outputs": [
    {
     "name": "stderr",
     "output_type": "stream",
     "text": [
      "Using TensorFlow backend.\n"
     ]
    }
   ],
   "source": [
    "## Import Keras objects for Deep Learning\n",
    "\n",
    "from keras.models  import Sequential, K\n",
    "from keras.layers import Input, Dense, Flatten, Dropout, BatchNormalization\n",
    "from keras.optimizers import Adam, SGD, RMSprop"
   ]
  },
  {
   "cell_type": "code",
   "execution_count": 12,
   "metadata": {
    "collapsed": true
   },
   "outputs": [],
   "source": [
    "## Load in the data set (Internet Access needed)\n",
    "\n",
    "diabetes_df = pd.read_csv('/home/htoukour/Templates/data/diabetes.csv')"
   ]
  },
  {
   "cell_type": "code",
   "execution_count": 13,
   "metadata": {},
   "outputs": [
    {
     "name": "stdout",
     "output_type": "stream",
     "text": [
      "(768, 9)\n"
     ]
    },
    {
     "data": {
      "text/html": [
       "<div>\n",
       "<style scoped>\n",
       "    .dataframe tbody tr th:only-of-type {\n",
       "        vertical-align: middle;\n",
       "    }\n",
       "\n",
       "    .dataframe tbody tr th {\n",
       "        vertical-align: top;\n",
       "    }\n",
       "\n",
       "    .dataframe thead th {\n",
       "        text-align: right;\n",
       "    }\n",
       "</style>\n",
       "<table border=\"1\" class=\"dataframe\">\n",
       "  <thead>\n",
       "    <tr style=\"text-align: right;\">\n",
       "      <th></th>\n",
       "      <th>Pregnancies</th>\n",
       "      <th>Glucose</th>\n",
       "      <th>BloodPressure</th>\n",
       "      <th>SkinThickness</th>\n",
       "      <th>Insulin</th>\n",
       "      <th>BMI</th>\n",
       "      <th>DiabetesPedigreeFunction</th>\n",
       "      <th>Age</th>\n",
       "      <th>Outcome</th>\n",
       "    </tr>\n",
       "  </thead>\n",
       "  <tbody>\n",
       "    <tr>\n",
       "      <th>519</th>\n",
       "      <td>6</td>\n",
       "      <td>129</td>\n",
       "      <td>90</td>\n",
       "      <td>7</td>\n",
       "      <td>326</td>\n",
       "      <td>19.6</td>\n",
       "      <td>0.582</td>\n",
       "      <td>60</td>\n",
       "      <td>0</td>\n",
       "    </tr>\n",
       "    <tr>\n",
       "      <th>476</th>\n",
       "      <td>2</td>\n",
       "      <td>105</td>\n",
       "      <td>80</td>\n",
       "      <td>45</td>\n",
       "      <td>191</td>\n",
       "      <td>33.7</td>\n",
       "      <td>0.711</td>\n",
       "      <td>29</td>\n",
       "      <td>1</td>\n",
       "    </tr>\n",
       "    <tr>\n",
       "      <th>375</th>\n",
       "      <td>12</td>\n",
       "      <td>140</td>\n",
       "      <td>82</td>\n",
       "      <td>43</td>\n",
       "      <td>325</td>\n",
       "      <td>39.2</td>\n",
       "      <td>0.528</td>\n",
       "      <td>58</td>\n",
       "      <td>1</td>\n",
       "    </tr>\n",
       "    <tr>\n",
       "      <th>226</th>\n",
       "      <td>0</td>\n",
       "      <td>101</td>\n",
       "      <td>76</td>\n",
       "      <td>0</td>\n",
       "      <td>0</td>\n",
       "      <td>35.7</td>\n",
       "      <td>0.198</td>\n",
       "      <td>26</td>\n",
       "      <td>0</td>\n",
       "    </tr>\n",
       "    <tr>\n",
       "      <th>298</th>\n",
       "      <td>14</td>\n",
       "      <td>100</td>\n",
       "      <td>78</td>\n",
       "      <td>25</td>\n",
       "      <td>184</td>\n",
       "      <td>36.6</td>\n",
       "      <td>0.412</td>\n",
       "      <td>46</td>\n",
       "      <td>1</td>\n",
       "    </tr>\n",
       "  </tbody>\n",
       "</table>\n",
       "</div>"
      ],
      "text/plain": [
       "     Pregnancies  Glucose  BloodPressure  SkinThickness  Insulin   BMI  \\\n",
       "519            6      129             90              7      326  19.6   \n",
       "476            2      105             80             45      191  33.7   \n",
       "375           12      140             82             43      325  39.2   \n",
       "226            0      101             76              0        0  35.7   \n",
       "298           14      100             78             25      184  36.6   \n",
       "\n",
       "     DiabetesPedigreeFunction  Age  Outcome  \n",
       "519                     0.582   60        0  \n",
       "476                     0.711   29        1  \n",
       "375                     0.528   58        1  \n",
       "226                     0.198   26        0  \n",
       "298                     0.412   46        1  "
      ]
     },
     "execution_count": 13,
     "metadata": {},
     "output_type": "execute_result"
    }
   ],
   "source": [
    "# Take a peek at the data -- if there are lots of \"NaN\" we may have internet connectivity issues\n",
    "print(diabetes_df.shape)\n",
    "diabetes_df.sample(5)"
   ]
  },
  {
   "cell_type": "code",
   "execution_count": 14,
   "metadata": {
    "collapsed": true
   },
   "outputs": [],
   "source": [
    "X = diabetes_df.iloc[:, :-1].values\n",
    "y = diabetes_df[\"Outcome\"].values"
   ]
  },
  {
   "cell_type": "code",
   "execution_count": 15,
   "metadata": {
    "collapsed": true
   },
   "outputs": [],
   "source": [
    "# Split the data to Train, and Test (75%, 25%)\n",
    "\n",
    "X_train, X_test, y_train, y_test = train_test_split(X, y, test_size=0.25, random_state=11111)"
   ]
  },
  {
   "cell_type": "code",
   "execution_count": 16,
   "metadata": {},
   "outputs": [
    {
     "data": {
      "text/plain": [
       "(0.3489583333333333, 0.6510416666666666)"
      ]
     },
     "execution_count": 16,
     "metadata": {},
     "output_type": "execute_result"
    }
   ],
   "source": [
    "np.mean(y), np.mean(1-y)"
   ]
  },
  {
   "cell_type": "markdown",
   "metadata": {},
   "source": [
    "Above, we see that about 35% of the patients in this dataset have diabetes, while 65% do not.  This means we can get an accuracy of 65% without any model - just declare that no one has diabetes. We will calculate the ROC-AUC score to evaluate performance of our model, and also look at the accuracy as well to see if we improved upon the 65% accuracy.\n",
    "## Baseline performance using Random Forest\n",
    "To begin, and get a baseline for classifier performance:\n",
    "1. We train a Random Forest model with 200 trees on the training data.\n",
    "2. We calculate the accuracy and roc_auc_score of the predictions."
   ]
  },
  {
   "cell_type": "code",
   "execution_count": 17,
   "metadata": {},
   "outputs": [
    {
     "data": {
      "text/plain": [
       "RandomForestClassifier(bootstrap=True, class_weight=None, criterion='gini',\n",
       "            max_depth=None, max_features='auto', max_leaf_nodes=None,\n",
       "            min_impurity_decrease=0.0, min_impurity_split=None,\n",
       "            min_samples_leaf=1, min_samples_split=2,\n",
       "            min_weight_fraction_leaf=0.0, n_estimators=200, n_jobs=1,\n",
       "            oob_score=False, random_state=None, verbose=0,\n",
       "            warm_start=False)"
      ]
     },
     "execution_count": 17,
     "metadata": {},
     "output_type": "execute_result"
    }
   ],
   "source": [
    "## Train the RF Model\n",
    "rf_model = RandomForestClassifier(n_estimators=200)\n",
    "rf_model.fit(X_train, y_train)"
   ]
  },
  {
   "cell_type": "code",
   "execution_count": 18,
   "metadata": {},
   "outputs": [
    {
     "name": "stdout",
     "output_type": "stream",
     "text": [
      "accuracy is 0.771\n",
      "roc-auc is 0.834\n"
     ]
    }
   ],
   "source": [
    "# Make predictions on the test set - both \"hard\" predictions, and the scores (percent of trees voting yes)\n",
    "y_pred_class_rf = rf_model.predict(X_test)\n",
    "y_pred_prob_rf = rf_model.predict_proba(X_test)\n",
    "\n",
    "\n",
    "print('accuracy is {:.3f}'.format(accuracy_score(y_test,y_pred_class_rf)))\n",
    "print('roc-auc is {:.3f}'.format(roc_auc_score(y_test,y_pred_prob_rf[:,1])))"
   ]
  },
  {
   "cell_type": "code",
   "execution_count": 19,
   "metadata": {},
   "outputs": [
    {
     "data": {
      "image/png": "[encoded data removed]",
      "text/plain": [
       "<Figure size 576x576 with 1 Axes>"
      ]
     },
     "metadata": {},
     "output_type": "display_data"
    }
   ],
   "source": [
    "def plot_roc(y_test, y_pred, model_name):\n",
    "    fpr, tpr, thr = roc_curve(y_test, y_pred)\n",
    "    fig, ax = plt.subplots(figsize=(8, 8))\n",
    "    ax.plot(fpr, tpr, 'k-')\n",
    "    ax.plot([0, 1], [0, 1], 'k--', linewidth=.5)  # roc curve for random model\n",
    "    ax.grid(True)\n",
    "    ax.set(title='ROC Curve for {} on PIMA diabetes problem'.format(model_name),\n",
    "           xlim=[-0.01, 1.01], ylim=[-0.01, 1.01])\n",
    "\n",
    "\n",
    "plot_roc(y_test, y_pred_prob_rf[:, 1], 'RF')"
   ]
  },
  {
   "cell_type": "markdown",
   "metadata": {},
   "source": [
    "## Building a Single Hidden Layer Neural Network\n",
    "\n",
    "We will use the Sequential model to quickly build a neural network.  Our first network will be a single layer network.  We have 8 variables, so we set the input shape to 8.  Let's start by having a single hidden layer with 12 nodes."
   ]
  },
  {
   "cell_type": "code",
   "execution_count": 20,
   "metadata": {
    "collapsed": true
   },
   "outputs": [],
   "source": [
    "## First let's normalize the data\n",
    "## This aids the training of neural nets by providing numerical stability\n",
    "## Random Forest does not need this as it finds a split only, as opposed to performing matrix multiplications\n",
    "\n",
    "\n",
    "normalizer = StandardScaler()\n",
    "X_train_norm = normalizer.fit_transform(X_train)\n",
    "X_test_norm = normalizer.transform(X_test)"
   ]
  },
  {
   "cell_type": "code",
   "execution_count": 21,
   "metadata": {
    "collapsed": true
   },
   "outputs": [],
   "source": [
    "# Define the Model \n",
    "# Input size is 8-dimensional\n",
    "# 1 hidden layer, 12 hidden nodes, sigmoid activation\n",
    "# Final layer has just one node with a sigmoid activation (standard for binary classification)\n",
    "\n",
    "model_1 = Sequential([\n",
    "    Dense(12, input_shape=(8,), activation=\"relu\"),\n",
    "    Dense(1, activation=\"sigmoid\")\n",
    "])"
   ]
  },
  {
   "cell_type": "code",
   "execution_count": 22,
   "metadata": {},
   "outputs": [
    {
     "name": "stdout",
     "output_type": "stream",
     "text": [
      "_________________________________________________________________\n",
      "Layer (type)                 Output Shape              Param #   \n",
      "=================================================================\n",
      "dense_1 (Dense)              (None, 12)                108       \n",
      "_________________________________________________________________\n",
      "dense_2 (Dense)              (None, 1)                 13        \n",
      "=================================================================\n",
      "Total params: 121\n",
      "Trainable params: 121\n",
      "Non-trainable params: 0\n",
      "_________________________________________________________________\n"
     ]
    }
   ],
   "source": [
    "#  This is a nice tool to view the model we have created and count the parameters\n",
    "\n",
    "model_1.summary()"
   ]
  },
  {
   "cell_type": "markdown",
   "metadata": {},
   "source": [
    "\n",
    "\n",
    "\n",
    "Let's fit our model for 200 epochs."
   ]
  },
  {
   "cell_type": "code",
   "execution_count": 23,
   "metadata": {},
   "outputs": [
    {
     "name": "stdout",
     "output_type": "stream",
     "text": [
      "Train on 576 samples, validate on 192 samples\n",
      "Epoch 1/200\n",
      "576/576 [==============================] - 3s 5ms/step - loss: 0.7510 - acc: 0.4410 - val_loss: 0.7442 - val_acc: 0.4896\n",
      "Epoch 2/200\n",
      "576/576 [==============================] - 0s 454us/step - loss: 0.7417 - acc: 0.4549 - val_loss: 0.7360 - val_acc: 0.5104\n",
      "Epoch 3/200\n",
      "576/576 [==============================] - 0s 222us/step - loss: 0.7329 - acc: 0.4705 - val_loss: 0.7282 - val_acc: 0.5208\n",
      "Epoch 4/200\n",
      "576/576 [==============================] - 0s 310us/step - loss: 0.7247 - acc: 0.4878 - val_loss: 0.7208 - val_acc: 0.5417\n",
      "Epoch 5/200\n",
      "576/576 [==============================] - 0s 383us/step - loss: 0.7167 - acc: 0.5087 - val_loss: 0.7137 - val_acc: 0.5521\n",
      "Epoch 6/200\n",
      "576/576 [==============================] - 0s 349us/step - loss: 0.7093 - acc: 0.5226 - val_loss: 0.7071 - val_acc: 0.5625\n",
      "Epoch 7/200\n",
      "576/576 [==============================] - 0s 351us/step - loss: 0.7020 - acc: 0.5278 - val_loss: 0.7007 - val_acc: 0.5781\n",
      "Epoch 8/200\n",
      "576/576 [==============================] - 0s 291us/step - loss: 0.6952 - acc: 0.5434 - val_loss: 0.6946 - val_acc: 0.5990\n",
      "Epoch 9/200\n",
      "576/576 [==============================] - 0s 296us/step - loss: 0.6887 - acc: 0.5556 - val_loss: 0.6888 - val_acc: 0.6198\n",
      "Epoch 10/200\n",
      "576/576 [==============================] - 0s 440us/step - loss: 0.6823 - acc: 0.5764 - val_loss: 0.6833 - val_acc: 0.6198\n",
      "Epoch 11/200\n",
      "576/576 [==============================] - 0s 369us/step - loss: 0.6763 - acc: 0.5833 - val_loss: 0.6780 - val_acc: 0.6354\n",
      "Epoch 12/200\n",
      "576/576 [==============================] - 0s 395us/step - loss: 0.6705 - acc: 0.5903 - val_loss: 0.6729 - val_acc: 0.6302\n",
      "Epoch 13/200\n",
      "576/576 [==============================] - 0s 290us/step - loss: 0.6650 - acc: 0.6042 - val_loss: 0.6681 - val_acc: 0.6458\n",
      "Epoch 14/200\n",
      "576/576 [==============================] - 0s 408us/step - loss: 0.6598 - acc: 0.6181 - val_loss: 0.6635 - val_acc: 0.6562\n",
      "Epoch 15/200\n",
      "576/576 [==============================] - 0s 368us/step - loss: 0.6547 - acc: 0.6250 - val_loss: 0.6591 - val_acc: 0.6562\n",
      "Epoch 16/200\n",
      "576/576 [==============================] - 0s 277us/step - loss: 0.6499 - acc: 0.6372 - val_loss: 0.6548 - val_acc: 0.6615\n",
      "Epoch 17/200\n",
      "576/576 [==============================] - 0s 260us/step - loss: 0.6453 - acc: 0.6406 - val_loss: 0.6507 - val_acc: 0.6719\n",
      "Epoch 18/200\n",
      "576/576 [==============================] - 0s 213us/step - loss: 0.6409 - acc: 0.6476 - val_loss: 0.6468 - val_acc: 0.6875\n",
      "Epoch 19/200\n",
      "576/576 [==============================] - 0s 265us/step - loss: 0.6366 - acc: 0.6597 - val_loss: 0.6430 - val_acc: 0.6719\n",
      "Epoch 20/200\n",
      "576/576 [==============================] - 0s 228us/step - loss: 0.6324 - acc: 0.6684 - val_loss: 0.6393 - val_acc: 0.6719\n",
      "Epoch 21/200\n",
      "576/576 [==============================] - 0s 439us/step - loss: 0.6285 - acc: 0.6771 - val_loss: 0.6358 - val_acc: 0.6719\n",
      "Epoch 22/200\n",
      "576/576 [==============================] - 0s 464us/step - loss: 0.6246 - acc: 0.6806 - val_loss: 0.6324 - val_acc: 0.6719\n",
      "Epoch 23/200\n",
      "576/576 [==============================] - 0s 388us/step - loss: 0.6209 - acc: 0.6823 - val_loss: 0.6292 - val_acc: 0.6771\n",
      "Epoch 24/200\n",
      "576/576 [==============================] - 0s 424us/step - loss: 0.6172 - acc: 0.6892 - val_loss: 0.6261 - val_acc: 0.6771\n",
      "Epoch 25/200\n",
      "576/576 [==============================] - 0s 425us/step - loss: 0.6137 - acc: 0.6892 - val_loss: 0.6231 - val_acc: 0.6719\n",
      "Epoch 26/200\n",
      "576/576 [==============================] - 0s 365us/step - loss: 0.6103 - acc: 0.6892 - val_loss: 0.6202 - val_acc: 0.6719\n",
      "Epoch 27/200\n",
      "576/576 [==============================] - 0s 389us/step - loss: 0.6071 - acc: 0.6875 - val_loss: 0.6174 - val_acc: 0.6875\n",
      "Epoch 28/200\n",
      "576/576 [==============================] - 0s 378us/step - loss: 0.6039 - acc: 0.6875 - val_loss: 0.6147 - val_acc: 0.6979\n",
      "Epoch 29/200\n",
      "576/576 [==============================] - 0s 415us/step - loss: 0.6008 - acc: 0.6944 - val_loss: 0.6121 - val_acc: 0.7031\n",
      "Epoch 30/200\n",
      "576/576 [==============================] - 0s 406us/step - loss: 0.5979 - acc: 0.6962 - val_loss: 0.6096 - val_acc: 0.6979\n",
      "Epoch 31/200\n",
      "576/576 [==============================] - 0s 395us/step - loss: 0.5951 - acc: 0.6997 - val_loss: 0.6072 - val_acc: 0.6979\n",
      "Epoch 32/200\n",
      "576/576 [==============================] - 0s 387us/step - loss: 0.5923 - acc: 0.7014 - val_loss: 0.6048 - val_acc: 0.6979\n",
      "Epoch 33/200\n",
      "576/576 [==============================] - 0s 442us/step - loss: 0.5896 - acc: 0.6997 - val_loss: 0.6026 - val_acc: 0.6979\n",
      "Epoch 34/200\n",
      "576/576 [==============================] - 0s 348us/step - loss: 0.5869 - acc: 0.6997 - val_loss: 0.6003 - val_acc: 0.7031\n",
      "Epoch 35/200\n",
      "576/576 [==============================] - 0s 358us/step - loss: 0.5843 - acc: 0.6997 - val_loss: 0.5982 - val_acc: 0.7031\n",
      "Epoch 36/200\n",
      "576/576 [==============================] - 0s 319us/step - loss: 0.5818 - acc: 0.7014 - val_loss: 0.5960 - val_acc: 0.7083\n",
      "Epoch 37/200\n",
      "576/576 [==============================] - 0s 384us/step - loss: 0.5793 - acc: 0.7014 - val_loss: 0.5940 - val_acc: 0.7083\n",
      "Epoch 38/200\n",
      "576/576 [==============================] - 0s 317us/step - loss: 0.5769 - acc: 0.7014 - val_loss: 0.5920 - val_acc: 0.7135\n",
      "Epoch 39/200\n",
      "576/576 [==============================] - 0s 280us/step - loss: 0.5746 - acc: 0.7014 - val_loss: 0.5900 - val_acc: 0.7135\n",
      "Epoch 40/200\n",
      "576/576 [==============================] - 0s 263us/step - loss: 0.5723 - acc: 0.6979 - val_loss: 0.5882 - val_acc: 0.7240\n",
      "Epoch 41/200\n",
      "576/576 [==============================] - 0s 324us/step - loss: 0.5700 - acc: 0.6997 - val_loss: 0.5863 - val_acc: 0.7240\n",
      "Epoch 42/200\n",
      "576/576 [==============================] - 0s 275us/step - loss: 0.5679 - acc: 0.7014 - val_loss: 0.5845 - val_acc: 0.7240\n",
      "Epoch 43/200\n",
      "576/576 [==============================] - 0s 234us/step - loss: 0.5658 - acc: 0.7014 - val_loss: 0.5828 - val_acc: 0.7240\n",
      "Epoch 44/200\n",
      "576/576 [==============================] - 0s 398us/step - loss: 0.5638 - acc: 0.6997 - val_loss: 0.5811 - val_acc: 0.7344\n",
      "Epoch 45/200\n",
      "576/576 [==============================] - 0s 301us/step - loss: 0.5617 - acc: 0.7014 - val_loss: 0.5795 - val_acc: 0.7396\n",
      "Epoch 46/200\n",
      "576/576 [==============================] - 0s 330us/step - loss: 0.5597 - acc: 0.7049 - val_loss: 0.5779 - val_acc: 0.7396\n",
      "Epoch 47/200\n",
      "576/576 [==============================] - 0s 335us/step - loss: 0.5578 - acc: 0.7083 - val_loss: 0.5764 - val_acc: 0.7396\n",
      "Epoch 48/200\n",
      "576/576 [==============================] - 0s 398us/step - loss: 0.5559 - acc: 0.7101 - val_loss: 0.5748 - val_acc: 0.7396\n",
      "Epoch 49/200\n",
      "576/576 [==============================] - 0s 489us/step - loss: 0.5541 - acc: 0.7135 - val_loss: 0.5734 - val_acc: 0.7396\n",
      "Epoch 50/200\n",
      "576/576 [==============================] - 0s 435us/step - loss: 0.5523 - acc: 0.7153 - val_loss: 0.5719 - val_acc: 0.7396\n",
      "Epoch 51/200\n",
      "576/576 [==============================] - 0s 429us/step - loss: 0.5505 - acc: 0.7188 - val_loss: 0.5705 - val_acc: 0.7396\n",
      "Epoch 52/200\n",
      "576/576 [==============================] - 0s 349us/step - loss: 0.5488 - acc: 0.7205 - val_loss: 0.5691 - val_acc: 0.7396\n",
      "Epoch 53/200\n",
      "576/576 [==============================] - 0s 294us/step - loss: 0.5470 - acc: 0.7222 - val_loss: 0.5677 - val_acc: 0.7396\n",
      "Epoch 54/200\n",
      "576/576 [==============================] - 0s 273us/step - loss: 0.5453 - acc: 0.7257 - val_loss: 0.5663 - val_acc: 0.7448\n",
      "Epoch 55/200\n",
      "576/576 [==============================] - 0s 371us/step - loss: 0.5437 - acc: 0.7257 - val_loss: 0.5650 - val_acc: 0.7448\n",
      "Epoch 56/200\n",
      "576/576 [==============================] - 0s 422us/step - loss: 0.5421 - acc: 0.7292 - val_loss: 0.5638 - val_acc: 0.7448\n",
      "Epoch 57/200\n",
      "576/576 [==============================] - 0s 326us/step - loss: 0.5405 - acc: 0.7292 - val_loss: 0.5625 - val_acc: 0.7500\n",
      "Epoch 58/200\n",
      "576/576 [==============================] - 0s 303us/step - loss: 0.5389 - acc: 0.7309 - val_loss: 0.5613 - val_acc: 0.7500\n",
      "Epoch 59/200\n",
      "576/576 [==============================] - 0s 352us/step - loss: 0.5374 - acc: 0.7344 - val_loss: 0.5601 - val_acc: 0.7500\n",
      "Epoch 60/200\n",
      "576/576 [==============================] - 0s 281us/step - loss: 0.5358 - acc: 0.7378 - val_loss: 0.5589 - val_acc: 0.7500\n",
      "Epoch 61/200\n",
      "576/576 [==============================] - 0s 347us/step - loss: 0.5344 - acc: 0.7378 - val_loss: 0.5577 - val_acc: 0.7500\n",
      "Epoch 62/200\n",
      "576/576 [==============================] - 0s 317us/step - loss: 0.5329 - acc: 0.7378 - val_loss: 0.5566 - val_acc: 0.7448\n",
      "Epoch 63/200\n",
      "576/576 [==============================] - 0s 246us/step - loss: 0.5315 - acc: 0.7378 - val_loss: 0.5555 - val_acc: 0.7500\n",
      "Epoch 64/200\n",
      "576/576 [==============================] - 0s 350us/step - loss: 0.5301 - acc: 0.7378 - val_loss: 0.5545 - val_acc: 0.7500\n",
      "Epoch 65/200\n",
      "576/576 [==============================] - 0s 391us/step - loss: 0.5287 - acc: 0.7344 - val_loss: 0.5534 - val_acc: 0.7500\n",
      "Epoch 66/200\n",
      "576/576 [==============================] - 0s 239us/step - loss: 0.5274 - acc: 0.7378 - val_loss: 0.5524 - val_acc: 0.7500\n",
      "Epoch 67/200\n",
      "576/576 [==============================] - 0s 439us/step - loss: 0.5260 - acc: 0.7378 - val_loss: 0.5514 - val_acc: 0.7448\n",
      "Epoch 68/200\n",
      "576/576 [==============================] - 0s 342us/step - loss: 0.5248 - acc: 0.7378 - val_loss: 0.5504 - val_acc: 0.7448\n",
      "Epoch 69/200\n",
      "576/576 [==============================] - 0s 405us/step - loss: 0.5235 - acc: 0.7378 - val_loss: 0.5494 - val_acc: 0.7500\n",
      "Epoch 70/200\n",
      "576/576 [==============================] - 0s 311us/step - loss: 0.5222 - acc: 0.7378 - val_loss: 0.5485 - val_acc: 0.7500\n",
      "Epoch 71/200\n",
      "576/576 [==============================] - 0s 322us/step - loss: 0.5210 - acc: 0.7396 - val_loss: 0.5476 - val_acc: 0.7552\n",
      "Epoch 72/200\n",
      "576/576 [==============================] - 0s 432us/step - loss: 0.5198 - acc: 0.7413 - val_loss: 0.5467 - val_acc: 0.7500\n",
      "Epoch 73/200\n",
      "576/576 [==============================] - 0s 293us/step - loss: 0.5186 - acc: 0.7413 - val_loss: 0.5458 - val_acc: 0.7500\n",
      "Epoch 74/200\n",
      "576/576 [==============================] - 0s 298us/step - loss: 0.5175 - acc: 0.7465 - val_loss: 0.5449 - val_acc: 0.7500\n",
      "Epoch 75/200\n",
      "576/576 [==============================] - 0s 235us/step - loss: 0.5163 - acc: 0.7500 - val_loss: 0.5440 - val_acc: 0.7500\n",
      "Epoch 76/200\n",
      "576/576 [==============================] - 0s 363us/step - loss: 0.5153 - acc: 0.7500 - val_loss: 0.5432 - val_acc: 0.7500\n",
      "Epoch 77/200\n",
      "576/576 [==============================] - 0s 252us/step - loss: 0.5142 - acc: 0.7517 - val_loss: 0.5424 - val_acc: 0.7500\n",
      "Epoch 78/200\n",
      "576/576 [==============================] - 0s 378us/step - loss: 0.5131 - acc: 0.7500 - val_loss: 0.5416 - val_acc: 0.7500\n",
      "Epoch 79/200\n",
      "576/576 [==============================] - 0s 388us/step - loss: 0.5121 - acc: 0.7500 - val_loss: 0.5408 - val_acc: 0.7500\n",
      "Epoch 80/200\n",
      "576/576 [==============================] - 0s 326us/step - loss: 0.5111 - acc: 0.7517 - val_loss: 0.5401 - val_acc: 0.7552\n",
      "Epoch 81/200\n",
      "576/576 [==============================] - 0s 502us/step - loss: 0.5100 - acc: 0.7535 - val_loss: 0.5393 - val_acc: 0.7552\n",
      "Epoch 82/200\n",
      "576/576 [==============================] - 0s 272us/step - loss: 0.5090 - acc: 0.7552 - val_loss: 0.5386 - val_acc: 0.7500\n",
      "Epoch 83/200\n",
      "576/576 [==============================] - 0s 392us/step - loss: 0.5080 - acc: 0.7569 - val_loss: 0.5379 - val_acc: 0.7448\n",
      "Epoch 84/200\n",
      "576/576 [==============================] - 0s 357us/step - loss: 0.5071 - acc: 0.7587 - val_loss: 0.5372 - val_acc: 0.7500\n",
      "Epoch 85/200\n",
      "576/576 [==============================] - 0s 320us/step - loss: 0.5061 - acc: 0.7604 - val_loss: 0.5365 - val_acc: 0.7500\n",
      "Epoch 86/200\n",
      "576/576 [==============================] - 0s 356us/step - loss: 0.5052 - acc: 0.7604 - val_loss: 0.5358 - val_acc: 0.7448\n",
      "Epoch 87/200\n",
      "576/576 [==============================] - 0s 319us/step - loss: 0.5042 - acc: 0.7622 - val_loss: 0.5352 - val_acc: 0.7448\n",
      "Epoch 88/200\n",
      "576/576 [==============================] - 0s 458us/step - loss: 0.5033 - acc: 0.7622 - val_loss: 0.5345 - val_acc: 0.7448\n",
      "Epoch 89/200\n",
      "576/576 [==============================] - 0s 427us/step - loss: 0.5024 - acc: 0.7639 - val_loss: 0.5339 - val_acc: 0.7448\n",
      "Epoch 90/200\n",
      "576/576 [==============================] - 0s 280us/step - loss: 0.5015 - acc: 0.7639 - val_loss: 0.5333 - val_acc: 0.7448\n",
      "Epoch 91/200\n",
      "576/576 [==============================] - 0s 261us/step - loss: 0.5007 - acc: 0.7656 - val_loss: 0.5327 - val_acc: 0.7448\n",
      "Epoch 92/200\n",
      "576/576 [==============================] - 0s 403us/step - loss: 0.4998 - acc: 0.7691 - val_loss: 0.5322 - val_acc: 0.7448\n",
      "Epoch 93/200\n",
      "576/576 [==============================] - 0s 399us/step - loss: 0.4990 - acc: 0.7708 - val_loss: 0.5316 - val_acc: 0.7448\n",
      "Epoch 94/200\n",
      "576/576 [==============================] - 0s 271us/step - loss: 0.4982 - acc: 0.7708 - val_loss: 0.5311 - val_acc: 0.7448\n",
      "Epoch 95/200\n",
      "576/576 [==============================] - 0s 392us/step - loss: 0.4973 - acc: 0.7726 - val_loss: 0.5305 - val_acc: 0.7448\n",
      "Epoch 96/200\n",
      "576/576 [==============================] - 0s 325us/step - loss: 0.4965 - acc: 0.7691 - val_loss: 0.5300 - val_acc: 0.7500\n",
      "Epoch 97/200\n",
      "576/576 [==============================] - 0s 427us/step - loss: 0.4958 - acc: 0.7708 - val_loss: 0.5295 - val_acc: 0.7500\n",
      "Epoch 98/200\n",
      "576/576 [==============================] - 0s 405us/step - loss: 0.4950 - acc: 0.7743 - val_loss: 0.5290 - val_acc: 0.7500\n",
      "Epoch 99/200\n",
      "576/576 [==============================] - 0s 417us/step - loss: 0.4942 - acc: 0.7726 - val_loss: 0.5285 - val_acc: 0.7500\n",
      "Epoch 100/200\n",
      "576/576 [==============================] - 0s 411us/step - loss: 0.4935 - acc: 0.7743 - val_loss: 0.5281 - val_acc: 0.7500\n",
      "Epoch 101/200\n",
      "576/576 [==============================] - 0s 481us/step - loss: 0.4928 - acc: 0.7743 - val_loss: 0.5276 - val_acc: 0.7448\n",
      "Epoch 102/200\n",
      "576/576 [==============================] - 0s 224us/step - loss: 0.4921 - acc: 0.7743 - val_loss: 0.5272 - val_acc: 0.7448\n",
      "Epoch 103/200\n",
      "576/576 [==============================] - 0s 415us/step - loss: 0.4914 - acc: 0.7760 - val_loss: 0.5268 - val_acc: 0.7448\n",
      "Epoch 104/200\n",
      "576/576 [==============================] - 0s 394us/step - loss: 0.4907 - acc: 0.7743 - val_loss: 0.5264 - val_acc: 0.7448\n",
      "Epoch 105/200\n",
      "576/576 [==============================] - 0s 250us/step - loss: 0.4901 - acc: 0.7743 - val_loss: 0.5260 - val_acc: 0.7396\n",
      "Epoch 106/200\n",
      "576/576 [==============================] - 0s 376us/step - loss: 0.4894 - acc: 0.7726 - val_loss: 0.5256 - val_acc: 0.7448\n",
      "Epoch 107/200\n",
      "576/576 [==============================] - 0s 308us/step - loss: 0.4888 - acc: 0.7726 - val_loss: 0.5252 - val_acc: 0.7448\n",
      "Epoch 108/200\n",
      "576/576 [==============================] - 0s 387us/step - loss: 0.4881 - acc: 0.7743 - val_loss: 0.5248 - val_acc: 0.7448\n",
      "Epoch 109/200\n",
      "576/576 [==============================] - 0s 349us/step - loss: 0.4875 - acc: 0.7760 - val_loss: 0.5244 - val_acc: 0.7448\n",
      "Epoch 110/200\n",
      "576/576 [==============================] - 0s 285us/step - loss: 0.4869 - acc: 0.7760 - val_loss: 0.5240 - val_acc: 0.7500\n",
      "Epoch 111/200\n",
      "576/576 [==============================] - 0s 363us/step - loss: 0.4862 - acc: 0.7760 - val_loss: 0.5237 - val_acc: 0.7500\n",
      "Epoch 112/200\n",
      "576/576 [==============================] - 0s 341us/step - loss: 0.4857 - acc: 0.7760 - val_loss: 0.5233 - val_acc: 0.7500\n",
      "Epoch 113/200\n",
      "576/576 [==============================] - 0s 168us/step - loss: 0.4851 - acc: 0.7778 - val_loss: 0.5230 - val_acc: 0.7500\n",
      "Epoch 114/200\n",
      "576/576 [==============================] - 0s 272us/step - loss: 0.4845 - acc: 0.7795 - val_loss: 0.5226 - val_acc: 0.7552\n",
      "Epoch 115/200\n",
      "576/576 [==============================] - 0s 421us/step - loss: 0.4840 - acc: 0.7812 - val_loss: 0.5223 - val_acc: 0.7552\n",
      "Epoch 116/200\n",
      "576/576 [==============================] - 0s 303us/step - loss: 0.4834 - acc: 0.7812 - val_loss: 0.5220 - val_acc: 0.7552\n",
      "Epoch 117/200\n",
      "576/576 [==============================] - 0s 258us/step - loss: 0.4828 - acc: 0.7812 - val_loss: 0.5216 - val_acc: 0.7552\n",
      "Epoch 118/200\n",
      "576/576 [==============================] - 0s 378us/step - loss: 0.4823 - acc: 0.7812 - val_loss: 0.5213 - val_acc: 0.7552\n",
      "Epoch 119/200\n",
      "576/576 [==============================] - 0s 291us/step - loss: 0.4817 - acc: 0.7812 - val_loss: 0.5210 - val_acc: 0.7552\n",
      "Epoch 120/200\n",
      "576/576 [==============================] - 0s 380us/step - loss: 0.4812 - acc: 0.7812 - val_loss: 0.5207 - val_acc: 0.7552\n",
      "Epoch 121/200\n",
      "576/576 [==============================] - 0s 409us/step - loss: 0.4806 - acc: 0.7812 - val_loss: 0.5204 - val_acc: 0.7552\n",
      "Epoch 122/200\n",
      "576/576 [==============================] - 0s 385us/step - loss: 0.4801 - acc: 0.7830 - val_loss: 0.5201 - val_acc: 0.7552\n",
      "Epoch 123/200\n",
      "576/576 [==============================] - 0s 279us/step - loss: 0.4795 - acc: 0.7830 - val_loss: 0.5198 - val_acc: 0.7552\n",
      "Epoch 124/200\n",
      "576/576 [==============================] - 0s 397us/step - loss: 0.4790 - acc: 0.7812 - val_loss: 0.5195 - val_acc: 0.7552\n",
      "Epoch 125/200\n",
      "576/576 [==============================] - 0s 298us/step - loss: 0.4785 - acc: 0.7812 - val_loss: 0.5193 - val_acc: 0.7552\n",
      "Epoch 126/200\n",
      "576/576 [==============================] - 0s 547us/step - loss: 0.4780 - acc: 0.7812 - val_loss: 0.5190 - val_acc: 0.7552\n",
      "Epoch 127/200\n",
      "576/576 [==============================] - 0s 405us/step - loss: 0.4776 - acc: 0.7812 - val_loss: 0.5187 - val_acc: 0.7552\n",
      "Epoch 128/200\n",
      "576/576 [==============================] - 0s 336us/step - loss: 0.4771 - acc: 0.7830 - val_loss: 0.5185 - val_acc: 0.7500\n",
      "Epoch 129/200\n",
      "576/576 [==============================] - 0s 494us/step - loss: 0.4766 - acc: 0.7830 - val_loss: 0.5182 - val_acc: 0.7500\n",
      "Epoch 130/200\n",
      "576/576 [==============================] - 0s 316us/step - loss: 0.4761 - acc: 0.7830 - val_loss: 0.5180 - val_acc: 0.7500\n",
      "Epoch 131/200\n",
      "576/576 [==============================] - 0s 441us/step - loss: 0.4756 - acc: 0.7812 - val_loss: 0.5178 - val_acc: 0.7500\n",
      "Epoch 132/200\n",
      "576/576 [==============================] - 0s 279us/step - loss: 0.4752 - acc: 0.7812 - val_loss: 0.5175 - val_acc: 0.7500\n",
      "Epoch 133/200\n",
      "576/576 [==============================] - 0s 326us/step - loss: 0.4748 - acc: 0.7812 - val_loss: 0.5173 - val_acc: 0.7500\n",
      "Epoch 134/200\n",
      "576/576 [==============================] - 0s 311us/step - loss: 0.4743 - acc: 0.7830 - val_loss: 0.5171 - val_acc: 0.7500\n",
      "Epoch 135/200\n",
      "576/576 [==============================] - 0s 293us/step - loss: 0.4739 - acc: 0.7812 - val_loss: 0.5168 - val_acc: 0.7500\n",
      "Epoch 136/200\n",
      "576/576 [==============================] - 0s 189us/step - loss: 0.4735 - acc: 0.7795 - val_loss: 0.5166 - val_acc: 0.7500\n",
      "Epoch 137/200\n",
      "576/576 [==============================] - 0s 298us/step - loss: 0.4730 - acc: 0.7795 - val_loss: 0.5164 - val_acc: 0.7500\n",
      "Epoch 138/200\n",
      "576/576 [==============================] - 0s 242us/step - loss: 0.4726 - acc: 0.7812 - val_loss: 0.5162 - val_acc: 0.7500\n",
      "Epoch 139/200\n",
      "576/576 [==============================] - 0s 309us/step - loss: 0.4722 - acc: 0.7795 - val_loss: 0.5160 - val_acc: 0.7500\n",
      "Epoch 140/200\n",
      "576/576 [==============================] - 0s 397us/step - loss: 0.4718 - acc: 0.7795 - val_loss: 0.5158 - val_acc: 0.7500\n",
      "Epoch 141/200\n",
      "576/576 [==============================] - 0s 367us/step - loss: 0.4714 - acc: 0.7830 - val_loss: 0.5156 - val_acc: 0.7500\n",
      "Epoch 142/200\n",
      "576/576 [==============================] - 0s 494us/step - loss: 0.4710 - acc: 0.7830 - val_loss: 0.5154 - val_acc: 0.7500\n",
      "Epoch 143/200\n",
      "576/576 [==============================] - 0s 222us/step - loss: 0.4706 - acc: 0.7830 - val_loss: 0.5152 - val_acc: 0.7500\n",
      "Epoch 144/200\n",
      "576/576 [==============================] - 0s 468us/step - loss: 0.4702 - acc: 0.7830 - val_loss: 0.5151 - val_acc: 0.7500\n",
      "Epoch 145/200\n",
      "576/576 [==============================] - 0s 440us/step - loss: 0.4698 - acc: 0.7847 - val_loss: 0.5149 - val_acc: 0.7500\n",
      "Epoch 146/200\n",
      "576/576 [==============================] - 0s 439us/step - loss: 0.4695 - acc: 0.7847 - val_loss: 0.5147 - val_acc: 0.7500\n",
      "Epoch 147/200\n",
      "576/576 [==============================] - 0s 278us/step - loss: 0.4691 - acc: 0.7847 - val_loss: 0.5145 - val_acc: 0.7500\n",
      "Epoch 148/200\n",
      "576/576 [==============================] - 0s 196us/step - loss: 0.4688 - acc: 0.7865 - val_loss: 0.5144 - val_acc: 0.7448\n",
      "Epoch 149/200\n",
      "576/576 [==============================] - 0s 466us/step - loss: 0.4684 - acc: 0.7865 - val_loss: 0.5142 - val_acc: 0.7500\n",
      "Epoch 150/200\n",
      "576/576 [==============================] - 0s 271us/step - loss: 0.4680 - acc: 0.7865 - val_loss: 0.5140 - val_acc: 0.7500\n",
      "Epoch 151/200\n",
      "576/576 [==============================] - 0s 219us/step - loss: 0.4677 - acc: 0.7865 - val_loss: 0.5138 - val_acc: 0.7500\n",
      "Epoch 152/200\n",
      "576/576 [==============================] - 0s 441us/step - loss: 0.4673 - acc: 0.7847 - val_loss: 0.5137 - val_acc: 0.7552\n",
      "Epoch 153/200\n",
      "576/576 [==============================] - 0s 437us/step - loss: 0.4670 - acc: 0.7847 - val_loss: 0.5135 - val_acc: 0.7552\n",
      "Epoch 154/200\n",
      "576/576 [==============================] - 0s 375us/step - loss: 0.4666 - acc: 0.7847 - val_loss: 0.5134 - val_acc: 0.7552\n",
      "Epoch 155/200\n",
      "576/576 [==============================] - 0s 427us/step - loss: 0.4663 - acc: 0.7847 - val_loss: 0.5132 - val_acc: 0.7552\n",
      "Epoch 156/200\n",
      "576/576 [==============================] - 0s 280us/step - loss: 0.4660 - acc: 0.7865 - val_loss: 0.5131 - val_acc: 0.7552\n",
      "Epoch 157/200\n",
      "576/576 [==============================] - 0s 272us/step - loss: 0.4657 - acc: 0.7865 - val_loss: 0.5129 - val_acc: 0.7552\n",
      "Epoch 158/200\n",
      "576/576 [==============================] - 0s 403us/step - loss: 0.4654 - acc: 0.7865 - val_loss: 0.5128 - val_acc: 0.7552\n",
      "Epoch 159/200\n",
      "576/576 [==============================] - 0s 454us/step - loss: 0.4651 - acc: 0.7865 - val_loss: 0.5126 - val_acc: 0.7552\n",
      "Epoch 160/200\n",
      "576/576 [==============================] - 0s 182us/step - loss: 0.4647 - acc: 0.7865 - val_loss: 0.5125 - val_acc: 0.7552\n",
      "Epoch 161/200\n",
      "576/576 [==============================] - 0s 265us/step - loss: 0.4644 - acc: 0.7865 - val_loss: 0.5124 - val_acc: 0.7552\n",
      "Epoch 162/200\n",
      "576/576 [==============================] - 0s 229us/step - loss: 0.4641 - acc: 0.7865 - val_loss: 0.5123 - val_acc: 0.7552\n",
      "Epoch 163/200\n",
      "576/576 [==============================] - 0s 443us/step - loss: 0.4638 - acc: 0.7865 - val_loss: 0.5121 - val_acc: 0.7552\n",
      "Epoch 164/200\n",
      "576/576 [==============================] - 0s 423us/step - loss: 0.4635 - acc: 0.7865 - val_loss: 0.5120 - val_acc: 0.7552\n",
      "Epoch 165/200\n",
      "576/576 [==============================] - 0s 316us/step - loss: 0.4632 - acc: 0.7865 - val_loss: 0.5119 - val_acc: 0.7552\n",
      "Epoch 166/200\n",
      "576/576 [==============================] - 0s 486us/step - loss: 0.4630 - acc: 0.7882 - val_loss: 0.5118 - val_acc: 0.7552\n",
      "Epoch 167/200\n",
      "576/576 [==============================] - 0s 325us/step - loss: 0.4627 - acc: 0.7882 - val_loss: 0.5117 - val_acc: 0.7552\n",
      "Epoch 168/200\n",
      "576/576 [==============================] - 0s 263us/step - loss: 0.4624 - acc: 0.7882 - val_loss: 0.5115 - val_acc: 0.7552\n",
      "Epoch 169/200\n",
      "576/576 [==============================] - 0s 199us/step - loss: 0.4621 - acc: 0.7882 - val_loss: 0.5114 - val_acc: 0.7552\n",
      "Epoch 170/200\n",
      "576/576 [==============================] - 0s 245us/step - loss: 0.4618 - acc: 0.7882 - val_loss: 0.5113 - val_acc: 0.7552\n",
      "Epoch 171/200\n",
      "576/576 [==============================] - 0s 437us/step - loss: 0.4616 - acc: 0.7882 - val_loss: 0.5112 - val_acc: 0.7552\n",
      "Epoch 172/200\n",
      "576/576 [==============================] - 0s 313us/step - loss: 0.4613 - acc: 0.7882 - val_loss: 0.5111 - val_acc: 0.7552\n",
      "Epoch 173/200\n",
      "576/576 [==============================] - 0s 278us/step - loss: 0.4610 - acc: 0.7865 - val_loss: 0.5110 - val_acc: 0.7552\n",
      "Epoch 174/200\n",
      "576/576 [==============================] - 0s 404us/step - loss: 0.4608 - acc: 0.7865 - val_loss: 0.5109 - val_acc: 0.7552\n",
      "Epoch 175/200\n",
      "576/576 [==============================] - 0s 429us/step - loss: 0.4605 - acc: 0.7882 - val_loss: 0.5108 - val_acc: 0.7552\n",
      "Epoch 176/200\n",
      "576/576 [==============================] - 0s 266us/step - loss: 0.4602 - acc: 0.7847 - val_loss: 0.5107 - val_acc: 0.7552\n",
      "Epoch 177/200\n",
      "576/576 [==============================] - 0s 349us/step - loss: 0.4600 - acc: 0.7882 - val_loss: 0.5106 - val_acc: 0.7552\n",
      "Epoch 178/200\n",
      "576/576 [==============================] - 0s 398us/step - loss: 0.4597 - acc: 0.7865 - val_loss: 0.5105 - val_acc: 0.7552\n",
      "Epoch 179/200\n",
      "576/576 [==============================] - 0s 238us/step - loss: 0.4595 - acc: 0.7865 - val_loss: 0.5104 - val_acc: 0.7552\n",
      "Epoch 180/200\n",
      "576/576 [==============================] - 0s 301us/step - loss: 0.4592 - acc: 0.7865 - val_loss: 0.5104 - val_acc: 0.7552\n",
      "Epoch 181/200\n",
      "576/576 [==============================] - 0s 579us/step - loss: 0.4590 - acc: 0.7865 - val_loss: 0.5103 - val_acc: 0.7552\n",
      "Epoch 182/200\n",
      "576/576 [==============================] - 0s 314us/step - loss: 0.4588 - acc: 0.7865 - val_loss: 0.5102 - val_acc: 0.7604\n",
      "Epoch 183/200\n",
      "576/576 [==============================] - 0s 578us/step - loss: 0.4585 - acc: 0.7865 - val_loss: 0.5101 - val_acc: 0.7604\n",
      "Epoch 184/200\n",
      "576/576 [==============================] - 0s 391us/step - loss: 0.4583 - acc: 0.7865 - val_loss: 0.5100 - val_acc: 0.7604\n",
      "Epoch 185/200\n",
      "576/576 [==============================] - 0s 338us/step - loss: 0.4581 - acc: 0.7865 - val_loss: 0.5099 - val_acc: 0.7604\n",
      "Epoch 186/200\n",
      "576/576 [==============================] - 0s 318us/step - loss: 0.4578 - acc: 0.7865 - val_loss: 0.5098 - val_acc: 0.7552\n",
      "Epoch 187/200\n",
      "576/576 [==============================] - 0s 362us/step - loss: 0.4576 - acc: 0.7865 - val_loss: 0.5097 - val_acc: 0.7552\n",
      "Epoch 188/200\n",
      "576/576 [==============================] - 0s 252us/step - loss: 0.4573 - acc: 0.7865 - val_loss: 0.5097 - val_acc: 0.7552\n",
      "Epoch 189/200\n",
      "576/576 [==============================] - 0s 267us/step - loss: 0.4572 - acc: 0.7865 - val_loss: 0.5096 - val_acc: 0.7552\n",
      "Epoch 190/200\n",
      "576/576 [==============================] - 0s 273us/step - loss: 0.4569 - acc: 0.7882 - val_loss: 0.5095 - val_acc: 0.7552\n",
      "Epoch 191/200\n",
      "576/576 [==============================] - 0s 302us/step - loss: 0.4567 - acc: 0.7882 - val_loss: 0.5094 - val_acc: 0.7500\n",
      "Epoch 192/200\n",
      "576/576 [==============================] - 0s 278us/step - loss: 0.4565 - acc: 0.7882 - val_loss: 0.5094 - val_acc: 0.7500\n",
      "Epoch 193/200\n",
      "576/576 [==============================] - 0s 456us/step - loss: 0.4563 - acc: 0.7882 - val_loss: 0.5093 - val_acc: 0.7500\n",
      "Epoch 194/200\n",
      "576/576 [==============================] - 0s 179us/step - loss: 0.4561 - acc: 0.7882 - val_loss: 0.5092 - val_acc: 0.7500\n",
      "Epoch 195/200\n",
      "576/576 [==============================] - 0s 242us/step - loss: 0.4559 - acc: 0.7882 - val_loss: 0.5092 - val_acc: 0.7500\n",
      "Epoch 196/200\n",
      "576/576 [==============================] - 0s 258us/step - loss: 0.4557 - acc: 0.7882 - val_loss: 0.5091 - val_acc: 0.7500\n",
      "Epoch 197/200\n",
      "576/576 [==============================] - 0s 325us/step - loss: 0.4555 - acc: 0.7882 - val_loss: 0.5091 - val_acc: 0.7500\n",
      "Epoch 198/200\n",
      "576/576 [==============================] - 0s 435us/step - loss: 0.4553 - acc: 0.7882 - val_loss: 0.5090 - val_acc: 0.7500\n",
      "Epoch 199/200\n",
      "576/576 [==============================] - 0s 429us/step - loss: 0.4551 - acc: 0.7882 - val_loss: 0.5089 - val_acc: 0.7500\n",
      "Epoch 200/200\n",
      "576/576 [==============================] - 0s 507us/step - loss: 0.4549 - acc: 0.7899 - val_loss: 0.5089 - val_acc: 0.7500\n"
     ]
    }
   ],
   "source": [
    "# Fit(Train) the Model\n",
    "\n",
    "# Compile the model with Optimizer, Loss Function and Metrics\n",
    "# Roc-Auc is not available in Keras as an off the shelf metric yet, so we will skip it here.\n",
    "\n",
    "model_1.compile(SGD(lr = .003), \"binary_crossentropy\", metrics=[\"accuracy\"])\n",
    "run_hist_1 = model_1.fit(X_train_norm, y_train, validation_data=(X_test_norm, y_test), epochs=200)\n",
    "# the fit function returns the run history. \n",
    "# It is very convenient, as it contains information about the model fit, iterations etc."
   ]
  },
  {
   "cell_type": "code",
   "execution_count": 24,
   "metadata": {},
   "outputs": [],
   "source": [
    "## Like we did for the Random Forest, we generate two kinds of predictions\n",
    "#  One is a hard decision, the other is a probabilitistic score.\n",
    "\n",
    "y_pred_class_nn_1 = model_1.predict_classes(X_test_norm)\n",
    "y_pred_prob_nn_1 = model_1.predict(X_test_norm)"
   ]
  },
  {
   "cell_type": "code",
   "execution_count": 25,
   "metadata": {},
   "outputs": [
    {
     "data": {
      "text/plain": [
       "array([[1],\n",
       "       [1],\n",
       "       [0],\n",
       "       [0],\n",
       "       [0],\n",
       "       [1],\n",
       "       [0],\n",
       "       [0],\n",
       "       [1],\n",
       "       [0]], dtype=int32)"
      ]
     },
     "execution_count": 25,
     "metadata": {},
     "output_type": "execute_result"
    }
   ],
   "source": [
    "# Let's check out the outputs to get a feel for how keras apis work.\n",
    "y_pred_class_nn_1[:10]"
   ]
  },
  {
   "cell_type": "code",
   "execution_count": 26,
   "metadata": {},
   "outputs": [
    {
     "data": {
      "text/plain": [
       "array([[0.51148736],\n",
       "       [0.6592495 ],\n",
       "       [0.35649565],\n",
       "       [0.201212  ],\n",
       "       [0.17720668],\n",
       "       [0.5311086 ],\n",
       "       [0.07404649],\n",
       "       [0.29646334],\n",
       "       [0.85982865],\n",
       "       [0.23876831]], dtype=float32)"
      ]
     },
     "execution_count": 26,
     "metadata": {},
     "output_type": "execute_result"
    }
   ],
   "source": [
    "y_pred_prob_nn_1[:10]"
   ]
  },
  {
   "cell_type": "code",
   "execution_count": 27,
   "metadata": {},
   "outputs": [
    {
     "name": "stdout",
     "output_type": "stream",
     "text": [
      "accuracy is 0.750\n",
      "roc-auc is 0.810\n"
     ]
    },
    {
     "data": {
      "image/png": "[encoded data removed]",
      "text/plain": [
       "<Figure size 576x576 with 1 Axes>"
      ]
     },
     "metadata": {},
     "output_type": "display_data"
    }
   ],
   "source": [
    "# Print model performance and plot the roc curve\n",
    "print('accuracy is {:.3f}'.format(accuracy_score(y_test,y_pred_class_nn_1)))\n",
    "print('roc-auc is {:.3f}'.format(roc_auc_score(y_test,y_pred_prob_nn_1)))\n",
    "\n",
    "plot_roc(y_test, y_pred_prob_nn_1, 'NN')"
   ]
  },
  {
   "cell_type": "markdown",
   "metadata": {},
   "source": [
    "There may be some variation in exact numbers due to randomness, but we should get results in the same ballpark as the Random Forest - between 75% and 85% accuracy, between .8 and .9 for AUC."
   ]
  },
  {
   "cell_type": "markdown",
   "metadata": {},
   "source": [
    "Let's look at the `run_hist_1` object that was created, specifically its `history` attribute."
   ]
  },
  {
   "cell_type": "code",
   "execution_count": 28,
   "metadata": {},
   "outputs": [
    {
     "data": {
      "text/plain": [
       "dict_keys(['val_loss', 'val_acc', 'loss', 'acc'])"
      ]
     },
     "execution_count": 28,
     "metadata": {},
     "output_type": "execute_result"
    }
   ],
   "source": [
    "run_hist_1.history.keys()"
   ]
  },
  {
   "cell_type": "markdown",
   "metadata": {},
   "source": [
    "Let's plot the training loss and the validation loss over the different epochs and see how it looks."
   ]
  },
  {
   "cell_type": "code",
   "execution_count": 29,
   "metadata": {},
   "outputs": [
    {
     "data": {
      "text/plain": [
       "<matplotlib.legend.Legend at 0x7f1d8c167eb8>"
      ]
     },
     "execution_count": 29,
     "metadata": {},
     "output_type": "execute_result"
    },
    {
     "data": {
      "image/png": "[encoded data removed]",
      "text/plain": [
       "<Figure size 432x288 with 1 Axes>"
      ]
     },
     "metadata": {},
     "output_type": "display_data"
    }
   ],
   "source": [
    "fig, ax = plt.subplots()\n",
    "ax.plot(run_hist_1.history[\"loss\"],'r', marker='.', label=\"Train Loss\")\n",
    "ax.plot(run_hist_1.history[\"val_loss\"],'b', marker='.', label=\"Validation Loss\")\n",
    "ax.legend()"
   ]
  },
  {
   "cell_type": "markdown",
   "metadata": {},
   "source": [
    "Looks like the losses are still going down on both the training set and the validation set.  This suggests that the model might benefit from further training.  Let's train the model a little more and see what happens. Note that it will pick up from where it left off. Train for 1000 more epochs."
   ]
  },
  {
   "cell_type": "code",
   "execution_count": 30,
   "metadata": {
    "scrolled": true
   },
   "outputs": [
    {
     "name": "stdout",
     "output_type": "stream",
     "text": [
      "Train on 576 samples, validate on 192 samples\n",
      "Epoch 1/1000\n",
      "576/576 [==============================] - 0s 398us/step - loss: 0.4547 - acc: 0.7899 - val_loss: 0.5088 - val_acc: 0.7500\n",
      "Epoch 2/1000\n",
      "576/576 [==============================] - 0s 278us/step - loss: 0.4545 - acc: 0.7899 - val_loss: 0.5087 - val_acc: 0.7500\n",
      "Epoch 3/1000\n",
      "576/576 [==============================] - 0s 283us/step - loss: 0.4543 - acc: 0.7899 - val_loss: 0.5087 - val_acc: 0.7448\n",
      "Epoch 4/1000\n",
      "576/576 [==============================] - 0s 306us/step - loss: 0.4541 - acc: 0.7899 - val_loss: 0.5086 - val_acc: 0.7448\n",
      "Epoch 5/1000\n",
      "576/576 [==============================] - 0s 294us/step - loss: 0.4540 - acc: 0.7899 - val_loss: 0.5086 - val_acc: 0.7448\n",
      "Epoch 6/1000\n",
      "576/576 [==============================] - 0s 308us/step - loss: 0.4538 - acc: 0.7899 - val_loss: 0.5085 - val_acc: 0.7448\n",
      "Epoch 7/1000\n",
      "576/576 [==============================] - 0s 387us/step - loss: 0.4536 - acc: 0.7899 - val_loss: 0.5084 - val_acc: 0.7448\n",
      "Epoch 8/1000\n",
      "576/576 [==============================] - 0s 306us/step - loss: 0.4534 - acc: 0.7899 - val_loss: 0.5084 - val_acc: 0.7448\n",
      "Epoch 9/1000\n",
      "576/576 [==============================] - 0s 216us/step - loss: 0.4532 - acc: 0.7917 - val_loss: 0.5083 - val_acc: 0.7448\n",
      "Epoch 10/1000\n",
      "576/576 [==============================] - 0s 279us/step - loss: 0.4530 - acc: 0.7917 - val_loss: 0.5083 - val_acc: 0.7448\n",
      "Epoch 11/1000\n",
      "576/576 [==============================] - 0s 363us/step - loss: 0.4529 - acc: 0.7934 - val_loss: 0.5082 - val_acc: 0.7448\n",
      "Epoch 12/1000\n",
      "576/576 [==============================] - 0s 274us/step - loss: 0.4527 - acc: 0.7934 - val_loss: 0.5082 - val_acc: 0.7448\n",
      "Epoch 13/1000\n",
      "576/576 [==============================] - 0s 277us/step - loss: 0.4526 - acc: 0.7951 - val_loss: 0.5081 - val_acc: 0.7448\n",
      "Epoch 14/1000\n",
      "576/576 [==============================] - 0s 276us/step - loss: 0.4524 - acc: 0.7951 - val_loss: 0.5080 - val_acc: 0.7448\n",
      "Epoch 15/1000\n",
      "576/576 [==============================] - 0s 323us/step - loss: 0.4522 - acc: 0.7951 - val_loss: 0.5080 - val_acc: 0.7396\n",
      "Epoch 16/1000\n",
      "576/576 [==============================] - 0s 348us/step - loss: 0.4520 - acc: 0.7951 - val_loss: 0.5079 - val_acc: 0.7396\n",
      "Epoch 17/1000\n",
      "576/576 [==============================] - 0s 335us/step - loss: 0.4519 - acc: 0.7951 - val_loss: 0.5079 - val_acc: 0.7396\n",
      "Epoch 18/1000\n",
      "576/576 [==============================] - 0s 295us/step - loss: 0.4517 - acc: 0.7951 - val_loss: 0.5078 - val_acc: 0.7396\n",
      "Epoch 19/1000\n",
      "576/576 [==============================] - 0s 300us/step - loss: 0.4515 - acc: 0.7951 - val_loss: 0.5077 - val_acc: 0.7396\n",
      "Epoch 20/1000\n",
      "576/576 [==============================] - 0s 324us/step - loss: 0.4514 - acc: 0.7951 - val_loss: 0.5077 - val_acc: 0.7396\n",
      "Epoch 21/1000\n",
      "576/576 [==============================] - 0s 320us/step - loss: 0.4512 - acc: 0.7969 - val_loss: 0.5076 - val_acc: 0.7396\n",
      "Epoch 22/1000\n",
      "576/576 [==============================] - 0s 356us/step - loss: 0.4510 - acc: 0.7951 - val_loss: 0.5076 - val_acc: 0.7396\n",
      "Epoch 23/1000\n",
      "576/576 [==============================] - 0s 345us/step - loss: 0.4509 - acc: 0.7969 - val_loss: 0.5075 - val_acc: 0.7396\n",
      "Epoch 24/1000\n",
      "576/576 [==============================] - 0s 307us/step - loss: 0.4507 - acc: 0.7969 - val_loss: 0.5075 - val_acc: 0.7396\n",
      "Epoch 25/1000\n",
      "576/576 [==============================] - 0s 402us/step - loss: 0.4505 - acc: 0.7969 - val_loss: 0.5074 - val_acc: 0.7396\n",
      "Epoch 26/1000\n",
      "576/576 [==============================] - 0s 294us/step - loss: 0.4504 - acc: 0.7969 - val_loss: 0.5074 - val_acc: 0.7396\n",
      "Epoch 27/1000\n",
      "576/576 [==============================] - 0s 423us/step - loss: 0.4502 - acc: 0.7969 - val_loss: 0.5073 - val_acc: 0.7396\n",
      "Epoch 28/1000\n",
      "576/576 [==============================] - 0s 256us/step - loss: 0.4501 - acc: 0.7969 - val_loss: 0.5073 - val_acc: 0.7396\n",
      "Epoch 29/1000\n",
      "576/576 [==============================] - 0s 227us/step - loss: 0.4499 - acc: 0.7951 - val_loss: 0.5072 - val_acc: 0.7396\n",
      "Epoch 30/1000\n",
      "576/576 [==============================] - 0s 323us/step - loss: 0.4497 - acc: 0.7951 - val_loss: 0.5072 - val_acc: 0.7396\n",
      "Epoch 31/1000\n",
      "576/576 [==============================] - 0s 400us/step - loss: 0.4496 - acc: 0.7969 - val_loss: 0.5071 - val_acc: 0.7396\n",
      "Epoch 32/1000\n",
      "576/576 [==============================] - 0s 276us/step - loss: 0.4494 - acc: 0.7969 - val_loss: 0.5071 - val_acc: 0.7396\n",
      "Epoch 33/1000\n",
      "576/576 [==============================] - 0s 366us/step - loss: 0.4493 - acc: 0.7951 - val_loss: 0.5070 - val_acc: 0.7396\n",
      "Epoch 34/1000\n",
      "576/576 [==============================] - 0s 407us/step - loss: 0.4492 - acc: 0.7951 - val_loss: 0.5070 - val_acc: 0.7448\n",
      "Epoch 35/1000\n",
      "576/576 [==============================] - 0s 327us/step - loss: 0.4490 - acc: 0.7951 - val_loss: 0.5069 - val_acc: 0.7448\n",
      "Epoch 36/1000\n",
      "576/576 [==============================] - 0s 343us/step - loss: 0.4488 - acc: 0.7951 - val_loss: 0.5069 - val_acc: 0.7448\n",
      "Epoch 37/1000\n",
      "576/576 [==============================] - 0s 401us/step - loss: 0.4487 - acc: 0.7969 - val_loss: 0.5068 - val_acc: 0.7448\n",
      "Epoch 38/1000\n",
      "576/576 [==============================] - 0s 408us/step - loss: 0.4486 - acc: 0.7969 - val_loss: 0.5068 - val_acc: 0.7448\n",
      "Epoch 39/1000\n",
      "576/576 [==============================] - 0s 296us/step - loss: 0.4484 - acc: 0.7969 - val_loss: 0.5067 - val_acc: 0.7448\n",
      "Epoch 40/1000\n",
      "576/576 [==============================] - 0s 297us/step - loss: 0.4483 - acc: 0.7969 - val_loss: 0.5067 - val_acc: 0.7448\n",
      "Epoch 41/1000\n",
      "576/576 [==============================] - 0s 374us/step - loss: 0.4481 - acc: 0.7969 - val_loss: 0.5066 - val_acc: 0.7448\n",
      "Epoch 42/1000\n",
      "576/576 [==============================] - 0s 287us/step - loss: 0.4480 - acc: 0.8003 - val_loss: 0.5066 - val_acc: 0.7448\n",
      "Epoch 43/1000\n",
      "576/576 [==============================] - 0s 355us/step - loss: 0.4478 - acc: 0.8003 - val_loss: 0.5065 - val_acc: 0.7448\n",
      "Epoch 44/1000\n",
      "576/576 [==============================] - 0s 305us/step - loss: 0.4477 - acc: 0.8003 - val_loss: 0.5065 - val_acc: 0.7448\n",
      "Epoch 45/1000\n",
      "576/576 [==============================] - 0s 361us/step - loss: 0.4476 - acc: 0.8003 - val_loss: 0.5064 - val_acc: 0.7448\n",
      "Epoch 46/1000\n",
      "576/576 [==============================] - 0s 388us/step - loss: 0.4474 - acc: 0.8003 - val_loss: 0.5064 - val_acc: 0.7448\n",
      "Epoch 47/1000\n",
      "576/576 [==============================] - 0s 280us/step - loss: 0.4473 - acc: 0.8003 - val_loss: 0.5063 - val_acc: 0.7448\n",
      "Epoch 48/1000\n",
      "576/576 [==============================] - 0s 424us/step - loss: 0.4472 - acc: 0.8021 - val_loss: 0.5063 - val_acc: 0.7448\n",
      "Epoch 49/1000\n",
      "576/576 [==============================] - 0s 301us/step - loss: 0.4470 - acc: 0.8021 - val_loss: 0.5062 - val_acc: 0.7448\n",
      "Epoch 50/1000\n",
      "576/576 [==============================] - 0s 379us/step - loss: 0.4469 - acc: 0.8003 - val_loss: 0.5062 - val_acc: 0.7448\n",
      "Epoch 51/1000\n",
      "576/576 [==============================] - 0s 338us/step - loss: 0.4468 - acc: 0.8003 - val_loss: 0.5061 - val_acc: 0.7448\n",
      "Epoch 52/1000\n",
      "576/576 [==============================] - 0s 309us/step - loss: 0.4467 - acc: 0.8003 - val_loss: 0.5061 - val_acc: 0.7448\n",
      "Epoch 53/1000\n",
      "576/576 [==============================] - 0s 315us/step - loss: 0.4465 - acc: 0.8003 - val_loss: 0.5060 - val_acc: 0.7448\n",
      "Epoch 54/1000\n",
      "576/576 [==============================] - 0s 347us/step - loss: 0.4464 - acc: 0.8003 - val_loss: 0.5060 - val_acc: 0.7448\n",
      "Epoch 55/1000\n",
      "576/576 [==============================] - 0s 415us/step - loss: 0.4463 - acc: 0.8003 - val_loss: 0.5060 - val_acc: 0.7448\n",
      "Epoch 56/1000\n",
      "576/576 [==============================] - 0s 362us/step - loss: 0.4462 - acc: 0.8003 - val_loss: 0.5059 - val_acc: 0.7448\n",
      "Epoch 57/1000\n",
      "576/576 [==============================] - 0s 358us/step - loss: 0.4460 - acc: 0.8003 - val_loss: 0.5059 - val_acc: 0.7448\n",
      "Epoch 58/1000\n",
      "576/576 [==============================] - 0s 349us/step - loss: 0.4460 - acc: 0.8003 - val_loss: 0.5058 - val_acc: 0.7448\n",
      "Epoch 59/1000\n",
      "576/576 [==============================] - 0s 367us/step - loss: 0.4458 - acc: 0.8003 - val_loss: 0.5058 - val_acc: 0.7448\n",
      "Epoch 60/1000\n",
      "576/576 [==============================] - 0s 348us/step - loss: 0.4457 - acc: 0.8003 - val_loss: 0.5058 - val_acc: 0.7448\n",
      "Epoch 61/1000\n",
      "576/576 [==============================] - 0s 304us/step - loss: 0.4456 - acc: 0.8003 - val_loss: 0.5057 - val_acc: 0.7448\n",
      "Epoch 62/1000\n",
      "576/576 [==============================] - 0s 322us/step - loss: 0.4455 - acc: 0.8003 - val_loss: 0.5057 - val_acc: 0.7448\n",
      "Epoch 63/1000\n",
      "576/576 [==============================] - 0s 367us/step - loss: 0.4453 - acc: 0.8003 - val_loss: 0.5057 - val_acc: 0.7448\n",
      "Epoch 64/1000\n",
      "576/576 [==============================] - 0s 237us/step - loss: 0.4452 - acc: 0.8003 - val_loss: 0.5056 - val_acc: 0.7448\n",
      "Epoch 65/1000\n",
      "576/576 [==============================] - 0s 206us/step - loss: 0.4451 - acc: 0.8003 - val_loss: 0.5056 - val_acc: 0.7448\n",
      "Epoch 66/1000\n",
      "576/576 [==============================] - 0s 296us/step - loss: 0.4450 - acc: 0.8003 - val_loss: 0.5056 - val_acc: 0.7448\n",
      "Epoch 67/1000\n",
      "576/576 [==============================] - 0s 395us/step - loss: 0.4449 - acc: 0.8003 - val_loss: 0.5056 - val_acc: 0.7448\n",
      "Epoch 68/1000\n",
      "576/576 [==============================] - 0s 356us/step - loss: 0.4448 - acc: 0.8003 - val_loss: 0.5055 - val_acc: 0.7448\n",
      "Epoch 69/1000\n",
      "576/576 [==============================] - 0s 297us/step - loss: 0.4447 - acc: 0.8003 - val_loss: 0.5055 - val_acc: 0.7448\n",
      "Epoch 70/1000\n",
      "576/576 [==============================] - 0s 248us/step - loss: 0.4446 - acc: 0.8003 - val_loss: 0.5055 - val_acc: 0.7448\n",
      "Epoch 71/1000\n",
      "224/576 [==========>...................] - ETA: 0s - loss: 0.4529 - acc: 0.7679"
     ]
    },
    {
     "ename": "KeyboardInterrupt",
     "evalue": "",
     "output_type": "error",
     "traceback": [
      "\u001b[0;31m---------------------------------------------------------------------------\u001b[0m",
      "\u001b[0;31mKeyboardInterrupt\u001b[0m                         Traceback (most recent call last)",
      "\u001b[0;32m<ipython-input-30-1c151236d24e>\u001b[0m in \u001b[0;36m<module>\u001b[0;34m()\u001b[0m\n\u001b[1;32m      1\u001b[0m \u001b[0;31m## Note that when we call \"fit\" again, it picks up where it left off\u001b[0m\u001b[0;34m\u001b[0m\u001b[0;34m\u001b[0m\u001b[0m\n\u001b[0;32m----> 2\u001b[0;31m \u001b[0mrun_hist_1b\u001b[0m \u001b[0;34m=\u001b[0m \u001b[0mmodel_1\u001b[0m\u001b[0;34m.\u001b[0m\u001b[0mfit\u001b[0m\u001b[0;34m(\u001b[0m\u001b[0mX_train_norm\u001b[0m\u001b[0;34m,\u001b[0m \u001b[0my_train\u001b[0m\u001b[0;34m,\u001b[0m \u001b[0mvalidation_data\u001b[0m\u001b[0;34m=\u001b[0m\u001b[0;34m(\u001b[0m\u001b[0mX_test_norm\u001b[0m\u001b[0;34m,\u001b[0m \u001b[0my_test\u001b[0m\u001b[0;34m)\u001b[0m\u001b[0;34m,\u001b[0m \u001b[0mepochs\u001b[0m\u001b[0;34m=\u001b[0m\u001b[0;36m1000\u001b[0m\u001b[0;34m)\u001b[0m\u001b[0;34m\u001b[0m\u001b[0m\n\u001b[0m",
      "\u001b[0;32m~/anaconda3/lib/python3.6/site-packages/keras/engine/training.py\u001b[0m in \u001b[0;36mfit\u001b[0;34m(self, x, y, batch_size, epochs, verbose, callbacks, validation_split, validation_data, shuffle, class_weight, sample_weight, initial_epoch, steps_per_epoch, validation_steps, **kwargs)\u001b[0m\n\u001b[1;32m   1035\u001b[0m                                         \u001b[0minitial_epoch\u001b[0m\u001b[0;34m=\u001b[0m\u001b[0minitial_epoch\u001b[0m\u001b[0;34m,\u001b[0m\u001b[0;34m\u001b[0m\u001b[0m\n\u001b[1;32m   1036\u001b[0m                                         \u001b[0msteps_per_epoch\u001b[0m\u001b[0;34m=\u001b[0m\u001b[0msteps_per_epoch\u001b[0m\u001b[0;34m,\u001b[0m\u001b[0;34m\u001b[0m\u001b[0m\n\u001b[0;32m-> 1037\u001b[0;31m                                         validation_steps=validation_steps)\n\u001b[0m\u001b[1;32m   1038\u001b[0m \u001b[0;34m\u001b[0m\u001b[0m\n\u001b[1;32m   1039\u001b[0m     def evaluate(self, x=None, y=None,\n",
      "\u001b[0;32m~/anaconda3/lib/python3.6/site-packages/keras/engine/training_arrays.py\u001b[0m in \u001b[0;36mfit_loop\u001b[0;34m(model, f, ins, out_labels, batch_size, epochs, verbose, callbacks, val_f, val_ins, shuffle, callback_metrics, initial_epoch, steps_per_epoch, validation_steps)\u001b[0m\n\u001b[1;32m    197\u001b[0m                     \u001b[0mins_batch\u001b[0m\u001b[0;34m[\u001b[0m\u001b[0mi\u001b[0m\u001b[0;34m]\u001b[0m \u001b[0;34m=\u001b[0m \u001b[0mins_batch\u001b[0m\u001b[0;34m[\u001b[0m\u001b[0mi\u001b[0m\u001b[0;34m]\u001b[0m\u001b[0;34m.\u001b[0m\u001b[0mtoarray\u001b[0m\u001b[0;34m(\u001b[0m\u001b[0;34m)\u001b[0m\u001b[0;34m\u001b[0m\u001b[0m\n\u001b[1;32m    198\u001b[0m \u001b[0;34m\u001b[0m\u001b[0m\n\u001b[0;32m--> 199\u001b[0;31m                 \u001b[0mouts\u001b[0m \u001b[0;34m=\u001b[0m \u001b[0mf\u001b[0m\u001b[0;34m(\u001b[0m\u001b[0mins_batch\u001b[0m\u001b[0;34m)\u001b[0m\u001b[0;34m\u001b[0m\u001b[0m\n\u001b[0m\u001b[1;32m    200\u001b[0m                 \u001b[0mouts\u001b[0m \u001b[0;34m=\u001b[0m \u001b[0mto_list\u001b[0m\u001b[0;34m(\u001b[0m\u001b[0mouts\u001b[0m\u001b[0;34m)\u001b[0m\u001b[0;34m\u001b[0m\u001b[0m\n\u001b[1;32m    201\u001b[0m                 \u001b[0;32mfor\u001b[0m \u001b[0ml\u001b[0m\u001b[0;34m,\u001b[0m \u001b[0mo\u001b[0m \u001b[0;32min\u001b[0m \u001b[0mzip\u001b[0m\u001b[0;34m(\u001b[0m\u001b[0mout_labels\u001b[0m\u001b[0;34m,\u001b[0m \u001b[0mouts\u001b[0m\u001b[0;34m)\u001b[0m\u001b[0;34m:\u001b[0m\u001b[0;34m\u001b[0m\u001b[0m\n",
      "\u001b[0;32m~/anaconda3/lib/python3.6/site-packages/keras/backend/tensorflow_backend.py\u001b[0m in \u001b[0;36m__call__\u001b[0;34m(self, inputs)\u001b[0m\n\u001b[1;32m   2664\u001b[0m                 \u001b[0;32mreturn\u001b[0m \u001b[0mself\u001b[0m\u001b[0;34m.\u001b[0m\u001b[0m_legacy_call\u001b[0m\u001b[0;34m(\u001b[0m\u001b[0minputs\u001b[0m\u001b[0;34m)\u001b[0m\u001b[0;34m\u001b[0m\u001b[0m\n\u001b[1;32m   2665\u001b[0m \u001b[0;34m\u001b[0m\u001b[0m\n\u001b[0;32m-> 2666\u001b[0;31m             \u001b[0;32mreturn\u001b[0m \u001b[0mself\u001b[0m\u001b[0;34m.\u001b[0m\u001b[0m_call\u001b[0m\u001b[0;34m(\u001b[0m\u001b[0minputs\u001b[0m\u001b[0;34m)\u001b[0m\u001b[0;34m\u001b[0m\u001b[0m\n\u001b[0m\u001b[1;32m   2667\u001b[0m         \u001b[0;32melse\u001b[0m\u001b[0;34m:\u001b[0m\u001b[0;34m\u001b[0m\u001b[0m\n\u001b[1;32m   2668\u001b[0m             \u001b[0;32mif\u001b[0m \u001b[0mpy_any\u001b[0m\u001b[0;34m(\u001b[0m\u001b[0mis_tensor\u001b[0m\u001b[0;34m(\u001b[0m\u001b[0mx\u001b[0m\u001b[0;34m)\u001b[0m \u001b[0;32mfor\u001b[0m \u001b[0mx\u001b[0m \u001b[0;32min\u001b[0m \u001b[0minputs\u001b[0m\u001b[0;34m)\u001b[0m\u001b[0;34m:\u001b[0m\u001b[0;34m\u001b[0m\u001b[0m\n",
      "\u001b[0;32m~/anaconda3/lib/python3.6/site-packages/keras/backend/tensorflow_backend.py\u001b[0m in \u001b[0;36m_call\u001b[0;34m(self, inputs)\u001b[0m\n\u001b[1;32m   2634\u001b[0m                                 \u001b[0msymbol_vals\u001b[0m\u001b[0;34m,\u001b[0m\u001b[0;34m\u001b[0m\u001b[0m\n\u001b[1;32m   2635\u001b[0m                                 session)\n\u001b[0;32m-> 2636\u001b[0;31m         \u001b[0mfetched\u001b[0m \u001b[0;34m=\u001b[0m \u001b[0mself\u001b[0m\u001b[0;34m.\u001b[0m\u001b[0m_callable_fn\u001b[0m\u001b[0;34m(\u001b[0m\u001b[0;34m*\u001b[0m\u001b[0marray_vals\u001b[0m\u001b[0;34m)\u001b[0m\u001b[0;34m\u001b[0m\u001b[0m\n\u001b[0m\u001b[1;32m   2637\u001b[0m         \u001b[0;32mreturn\u001b[0m \u001b[0mfetched\u001b[0m\u001b[0;34m[\u001b[0m\u001b[0;34m:\u001b[0m\u001b[0mlen\u001b[0m\u001b[0;34m(\u001b[0m\u001b[0mself\u001b[0m\u001b[0;34m.\u001b[0m\u001b[0moutputs\u001b[0m\u001b[0;34m)\u001b[0m\u001b[0;34m]\u001b[0m\u001b[0;34m\u001b[0m\u001b[0m\n\u001b[1;32m   2638\u001b[0m \u001b[0;34m\u001b[0m\u001b[0m\n",
      "\u001b[0;32m~/anaconda3/lib/python3.6/site-packages/tensorflow/python/client/session.py\u001b[0m in \u001b[0;36m__call__\u001b[0;34m(self, *args, **kwargs)\u001b[0m\n\u001b[1;32m   1380\u001b[0m           ret = tf_session.TF_SessionRunCallable(\n\u001b[1;32m   1381\u001b[0m               \u001b[0mself\u001b[0m\u001b[0;34m.\u001b[0m\u001b[0m_session\u001b[0m\u001b[0;34m.\u001b[0m\u001b[0m_session\u001b[0m\u001b[0;34m,\u001b[0m \u001b[0mself\u001b[0m\u001b[0;34m.\u001b[0m\u001b[0m_handle\u001b[0m\u001b[0;34m,\u001b[0m \u001b[0margs\u001b[0m\u001b[0;34m,\u001b[0m \u001b[0mstatus\u001b[0m\u001b[0;34m,\u001b[0m\u001b[0;34m\u001b[0m\u001b[0m\n\u001b[0;32m-> 1382\u001b[0;31m               run_metadata_ptr)\n\u001b[0m\u001b[1;32m   1383\u001b[0m         \u001b[0;32mif\u001b[0m \u001b[0mrun_metadata\u001b[0m\u001b[0;34m:\u001b[0m\u001b[0;34m\u001b[0m\u001b[0m\n\u001b[1;32m   1384\u001b[0m           \u001b[0mproto_data\u001b[0m \u001b[0;34m=\u001b[0m \u001b[0mtf_session\u001b[0m\u001b[0;34m.\u001b[0m\u001b[0mTF_GetBuffer\u001b[0m\u001b[0;34m(\u001b[0m\u001b[0mrun_metadata_ptr\u001b[0m\u001b[0;34m)\u001b[0m\u001b[0;34m\u001b[0m\u001b[0m\n",
      "\u001b[0;31mKeyboardInterrupt\u001b[0m: "
     ]
    }
   ],
   "source": [
    "## Note that when we call \"fit\" again, it picks up where it left off\n",
    "run_hist_1b = model_1.fit(X_train_norm, y_train, validation_data=(X_test_norm, y_test), epochs=1000)"
   ]
  },
  {
   "cell_type": "code",
   "execution_count": 31,
   "metadata": {},
   "outputs": [
    {
     "ename": "NameError",
     "evalue": "name 'run_hist_1b' is not defined",
     "output_type": "error",
     "traceback": [
      "\u001b[0;31m---------------------------------------------------------------------------\u001b[0m",
      "\u001b[0;31mNameError\u001b[0m                                 Traceback (most recent call last)",
      "\u001b[0;32m<ipython-input-31-2b51cf1ee88e>\u001b[0m in \u001b[0;36m<module>\u001b[0;34m()\u001b[0m\n\u001b[1;32m      1\u001b[0m \u001b[0mn\u001b[0m \u001b[0;34m=\u001b[0m \u001b[0mlen\u001b[0m\u001b[0;34m(\u001b[0m\u001b[0mrun_hist_1\u001b[0m\u001b[0;34m.\u001b[0m\u001b[0mhistory\u001b[0m\u001b[0;34m[\u001b[0m\u001b[0;34m\"loss\"\u001b[0m\u001b[0;34m]\u001b[0m\u001b[0;34m)\u001b[0m\u001b[0;34m\u001b[0m\u001b[0m\n\u001b[0;32m----> 2\u001b[0;31m \u001b[0mm\u001b[0m \u001b[0;34m=\u001b[0m \u001b[0mlen\u001b[0m\u001b[0;34m(\u001b[0m\u001b[0mrun_hist_1b\u001b[0m\u001b[0;34m.\u001b[0m\u001b[0mhistory\u001b[0m\u001b[0;34m[\u001b[0m\u001b[0;34m'loss'\u001b[0m\u001b[0;34m]\u001b[0m\u001b[0;34m)\u001b[0m\u001b[0;34m\u001b[0m\u001b[0m\n\u001b[0m\u001b[1;32m      3\u001b[0m \u001b[0mfig\u001b[0m\u001b[0;34m,\u001b[0m \u001b[0max\u001b[0m \u001b[0;34m=\u001b[0m \u001b[0mplt\u001b[0m\u001b[0;34m.\u001b[0m\u001b[0msubplots\u001b[0m\u001b[0;34m(\u001b[0m\u001b[0mfigsize\u001b[0m\u001b[0;34m=\u001b[0m\u001b[0;34m(\u001b[0m\u001b[0;36m16\u001b[0m\u001b[0;34m,\u001b[0m \u001b[0;36m8\u001b[0m\u001b[0;34m)\u001b[0m\u001b[0;34m)\u001b[0m\u001b[0;34m\u001b[0m\u001b[0m\n\u001b[1;32m      4\u001b[0m \u001b[0;34m\u001b[0m\u001b[0m\n\u001b[1;32m      5\u001b[0m \u001b[0max\u001b[0m\u001b[0;34m.\u001b[0m\u001b[0mplot\u001b[0m\u001b[0;34m(\u001b[0m\u001b[0mrange\u001b[0m\u001b[0;34m(\u001b[0m\u001b[0mn\u001b[0m\u001b[0;34m)\u001b[0m\u001b[0;34m,\u001b[0m \u001b[0mrun_hist_1\u001b[0m\u001b[0;34m.\u001b[0m\u001b[0mhistory\u001b[0m\u001b[0;34m[\u001b[0m\u001b[0;34m\"loss\"\u001b[0m\u001b[0;34m]\u001b[0m\u001b[0;34m,\u001b[0m\u001b[0;34m'r'\u001b[0m\u001b[0;34m,\u001b[0m \u001b[0mmarker\u001b[0m\u001b[0;34m=\u001b[0m\u001b[0;34m'.'\u001b[0m\u001b[0;34m,\u001b[0m \u001b[0mlabel\u001b[0m\u001b[0;34m=\u001b[0m\u001b[0;34m\"Train Loss - Run 1\"\u001b[0m\u001b[0;34m)\u001b[0m\u001b[0;34m\u001b[0m\u001b[0m\n",
      "\u001b[0;31mNameError\u001b[0m: name 'run_hist_1b' is not defined"
     ]
    }
   ],
   "source": [
    "n = len(run_hist_1.history[\"loss\"])\n",
    "m = len(run_hist_1b.history['loss'])\n",
    "fig, ax = plt.subplots(figsize=(16, 8))\n",
    "\n",
    "ax.plot(range(n), run_hist_1.history[\"loss\"],'r', marker='.', label=\"Train Loss - Run 1\")\n",
    "ax.plot(range(n, n+m), run_hist_1b.history[\"loss\"], 'hotpink', marker='.', label=\"Train Loss - Run 2\")\n",
    "\n",
    "ax.plot(range(n), run_hist_1.history[\"val_loss\"],'b', marker='.', label=\"Validation Loss - Run 1\")\n",
    "ax.plot(range(n, n+m), run_hist_1b.history[\"val_loss\"], 'LightSkyBlue', marker='.',  label=\"Validation Loss - Run 2\")\n",
    "\n",
    "ax.legend()"
   ]
  },
  {
   "cell_type": "markdown",
   "metadata": {},
   "source": [
    "Note that this graph begins where the other left off.  While the training loss is still going down, it looks like the validation loss has stabilized (or even gotten worse!).  This suggests that our network will not benefit from further training. "
   ]
  }
 ],
 "metadata": {
  "kernelspec": {
   "display_name": "Python 3",
   "language": "python",
   "name": "python3"
  },
  "language_info": {
   "codemirror_mode": {
    "name": "ipython",
    "version": 3
   },
   "file_extension": ".py",
   "mimetype": "text/x-python",
   "name": "python",
   "nbconvert_exporter": "python",
   "pygments_lexer": "ipython3",
   "version": "3.6.5"
  }
 },
 "nbformat": 4,
 "nbformat_minor": 2
}
